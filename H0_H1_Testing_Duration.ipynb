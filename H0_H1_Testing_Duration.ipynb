{
 "cells": [
  {
   "cell_type": "markdown",
   "id": "80c914d0-9f5e-42ab-b099-271c9775e5fc",
   "metadata": {},
   "source": [
    "<H3>Data Input<H3>"
   ]
  },
  {
   "cell_type": "code",
   "execution_count": 101,
   "id": "3540a2b9-11cf-4a00-be81-711c2bd2a902",
   "metadata": {},
   "outputs": [],
   "source": [
    "import pandas as pd\n",
    "import matplotlib.pyplot as plt\n",
    "import seaborn as sns\n",
    "import numpy as np\n",
    "import scipy.stats as st\n",
    "\n",
    "%matplotlib inline"
   ]
  },
  {
   "cell_type": "code",
   "execution_count": 102,
   "id": "6f3f359e-20a6-4fe1-9e9b-3830cb768861",
   "metadata": {},
   "outputs": [],
   "source": [
    "# Data Cleaning\n",
    "file_path = \"C:/Users/Srnzzz/Documents/GitHub/vanguard-ab-test/client_old_new_df.csv\"\n",
    "df = pd.read_csv(file_path)\n",
    "df['date_time'] = pd.to_datetime(df['date_time'])\n",
    "df_clean = df.dropna()"
   ]
  },
  {
   "cell_type": "code",
   "execution_count": 103,
   "id": "07e0814a-dc5b-4ec2-9ee6-e6d27f881565",
   "metadata": {},
   "outputs": [],
   "source": [
    "# Data Sorting\n",
    "df_clean = df_clean.sort_values(by=['client_id', 'visitor_id', 'visit_id', 'date_time'])\n",
    "\n",
    "# Calculate the time difference between each step within each visit\n",
    "df_clean['duration'] = df_clean.groupby(['client_id', 'visitor_id', 'visit_id'])['date_time'].diff().dt.total_seconds().abs()"
   ]
  },
  {
   "cell_type": "code",
   "execution_count": 104,
   "id": "ca48eed5-1776-47ff-a1fa-577d67dafe68",
   "metadata": {},
   "outputs": [],
   "source": [
    "# Average Step Duration per Client\n",
    "avg_step_duration_clients = df_clean.groupby('client_id')['duration'].mean().reset_index()"
   ]
  },
  {
   "cell_type": "code",
   "execution_count": 105,
   "id": "5bbffbea-ffdc-4551-9fcf-870a66e169a2",
   "metadata": {},
   "outputs": [],
   "source": [
    "# Average Step Duration Total\n",
    "avg_step_duration_total = df_clean.groupby('process_step')['duration'].mean().reset_index()"
   ]
  },
  {
   "cell_type": "code",
   "execution_count": 106,
   "id": "730905f3-91fd-4285-aa27-2800335485ea",
   "metadata": {},
   "outputs": [
    {
     "name": "stdout",
     "output_type": "stream",
     "text": [
      "  process_step  mean_duration\n",
      "0      confirm     128.769658\n",
      "1        start     147.140325\n",
      "2       step_1      37.704369\n",
      "3       step_2      48.131611\n",
      "4       step_3      96.850972\n",
      "  process_step  median_duration\n",
      "0      confirm             56.0\n",
      "1        start             55.0\n",
      "2       step_1             11.0\n",
      "3       step_2             25.0\n",
      "4       step_3             66.0\n"
     ]
    },
    {
     "data": {
      "text/plain": [
       "array(['Test'], dtype=object)"
      ]
     },
     "execution_count": 106,
     "metadata": {},
     "output_type": "execute_result"
    }
   ],
   "source": [
    "df_test = df_clean[df_clean['Variation'] == 'Test']\n",
    "avg_step_duration_mean_test = df_test.groupby('process_step')['duration'].mean().reset_index().rename(columns={'duration': 'mean_duration'})\n",
    "print(avg_step_duration_mean_test)\n",
    "avg_step_duration_median_test = df_test.groupby('process_step')['duration'].median().reset_index().rename(columns={'duration': 'median_duration'})\n",
    "print(avg_step_duration_median_test)\n",
    "avg_step_duration_max_test = df_test.groupby('process_step')['duration'].max().reset_index().rename(columns={'duration': 'max_duration'})\n",
    "#print(avg_step_duration_max_test)\n",
    "avg_step_duration_min_test = df_test.groupby('process_step')['duration'].min().reset_index().rename(columns={'duration': 'min_duration'})\n",
    "#print(avg_step_duration_min_test)\n",
    "df_test.shape\n",
    "df_test['Variation'].unique()"
   ]
  },
  {
   "cell_type": "code",
   "execution_count": 107,
   "id": "a813573a-3635-45e5-8d87-4b5c34de37b9",
   "metadata": {},
   "outputs": [
    {
     "data": {
      "text/html": [
       "<div>\n",
       "<style scoped>\n",
       "    .dataframe tbody tr th:only-of-type {\n",
       "        vertical-align: middle;\n",
       "    }\n",
       "\n",
       "    .dataframe tbody tr th {\n",
       "        vertical-align: top;\n",
       "    }\n",
       "\n",
       "    .dataframe thead th {\n",
       "        text-align: right;\n",
       "    }\n",
       "</style>\n",
       "<table border=\"1\" class=\"dataframe\">\n",
       "  <thead>\n",
       "    <tr style=\"text-align: right;\">\n",
       "      <th></th>\n",
       "      <th>process_step</th>\n",
       "      <th>mean_duration</th>\n",
       "      <th>median_duration</th>\n",
       "      <th>max_duration</th>\n",
       "      <th>min_duration</th>\n",
       "    </tr>\n",
       "  </thead>\n",
       "  <tbody>\n",
       "    <tr>\n",
       "      <th>0</th>\n",
       "      <td>confirm</td>\n",
       "      <td>128.769658</td>\n",
       "      <td>56.0</td>\n",
       "      <td>14581.0</td>\n",
       "      <td>0.0</td>\n",
       "    </tr>\n",
       "    <tr>\n",
       "      <th>1</th>\n",
       "      <td>start</td>\n",
       "      <td>147.140325</td>\n",
       "      <td>55.0</td>\n",
       "      <td>24819.0</td>\n",
       "      <td>0.0</td>\n",
       "    </tr>\n",
       "    <tr>\n",
       "      <th>2</th>\n",
       "      <td>step_1</td>\n",
       "      <td>37.704369</td>\n",
       "      <td>11.0</td>\n",
       "      <td>3636.0</td>\n",
       "      <td>0.0</td>\n",
       "    </tr>\n",
       "    <tr>\n",
       "      <th>3</th>\n",
       "      <td>step_2</td>\n",
       "      <td>48.131611</td>\n",
       "      <td>25.0</td>\n",
       "      <td>1858.0</td>\n",
       "      <td>0.0</td>\n",
       "    </tr>\n",
       "    <tr>\n",
       "      <th>4</th>\n",
       "      <td>step_3</td>\n",
       "      <td>96.850972</td>\n",
       "      <td>66.0</td>\n",
       "      <td>1923.0</td>\n",
       "      <td>0.0</td>\n",
       "    </tr>\n",
       "  </tbody>\n",
       "</table>\n",
       "</div>"
      ],
      "text/plain": [
       "  process_step  mean_duration  median_duration  max_duration  min_duration\n",
       "0      confirm     128.769658             56.0       14581.0           0.0\n",
       "1        start     147.140325             55.0       24819.0           0.0\n",
       "2       step_1      37.704369             11.0        3636.0           0.0\n",
       "3       step_2      48.131611             25.0        1858.0           0.0\n",
       "4       step_3      96.850972             66.0        1923.0           0.0"
      ]
     },
     "execution_count": 107,
     "metadata": {},
     "output_type": "execute_result"
    }
   ],
   "source": [
    "combined_avg_duration_test = avg_step_duration_mean_test \\\n",
    "    .merge(avg_step_duration_median_test, on='process_step') \\\n",
    "    .merge(avg_step_duration_max_test, on='process_step') \\\n",
    "    .merge(avg_step_duration_min_test, on='process_step')\n",
    "\n",
    "# Display the final combined table\n",
    "pd.DataFrame(combined_avg_duration_test)"
   ]
  },
  {
   "cell_type": "code",
   "execution_count": 108,
   "id": "13fbc15b-0b52-4aba-a822-448a3843b58a",
   "metadata": {
    "scrolled": true
   },
   "outputs": [
    {
     "name": "stdout",
     "output_type": "stream",
     "text": [
      "  process_step  mean_duration\n",
      "0      confirm     128.664715\n",
      "1        start     151.366026\n",
      "2       step_1      42.998741\n",
      "3       step_2      38.667857\n",
      "4       step_3      92.944258\n",
      "  process_step  median_duration\n",
      "0      confirm             73.0\n",
      "1        start             37.0\n",
      "2       step_1             18.0\n",
      "3       step_2             20.0\n",
      "4       step_3             66.0\n"
     ]
    },
    {
     "data": {
      "text/plain": [
       "array(['Control'], dtype=object)"
      ]
     },
     "execution_count": 108,
     "metadata": {},
     "output_type": "execute_result"
    }
   ],
   "source": [
    "df_no_test = df_clean[df_clean['Variation'] != 'Test']\n",
    "avg_step_duration_mean_no_test = df_no_test.groupby('process_step')['duration'].mean().reset_index().rename(columns={'duration': 'mean_duration'})\n",
    "print(avg_step_duration_mean_no_test)\n",
    "avg_step_duration_median_no_test = df_no_test.groupby('process_step')['duration'].median().reset_index().rename(columns={'duration': 'median_duration'})\n",
    "print(avg_step_duration_median_no_test)\n",
    "avg_step_duration_max_no_test = df_no_test.groupby('process_step')['duration'].max().reset_index().rename(columns={'duration': 'max_duration'})\n",
    "#print(avg_step_duration_max_no_test)\n",
    "avg_step_duration_min_no_test = df_no_test.groupby('process_step')['duration'].min().reset_index().rename(columns={'duration': 'min_duration'})\n",
    "#print(avg_step_duration_min_no_test)\n",
    "df_no_test.shape\n",
    "df_no_test['Variation'].unique()"
   ]
  },
  {
   "cell_type": "code",
   "execution_count": 109,
   "id": "d8c9b465-8d48-4f09-bab7-7909e02ba649",
   "metadata": {},
   "outputs": [
    {
     "data": {
      "text/html": [
       "<div>\n",
       "<style scoped>\n",
       "    .dataframe tbody tr th:only-of-type {\n",
       "        vertical-align: middle;\n",
       "    }\n",
       "\n",
       "    .dataframe tbody tr th {\n",
       "        vertical-align: top;\n",
       "    }\n",
       "\n",
       "    .dataframe thead th {\n",
       "        text-align: right;\n",
       "    }\n",
       "</style>\n",
       "<table border=\"1\" class=\"dataframe\">\n",
       "  <thead>\n",
       "    <tr style=\"text-align: right;\">\n",
       "      <th></th>\n",
       "      <th>process_step</th>\n",
       "      <th>mean_duration</th>\n",
       "      <th>median_duration</th>\n",
       "      <th>max_duration</th>\n",
       "      <th>min_duration</th>\n",
       "    </tr>\n",
       "  </thead>\n",
       "  <tbody>\n",
       "    <tr>\n",
       "      <th>0</th>\n",
       "      <td>confirm</td>\n",
       "      <td>128.664715</td>\n",
       "      <td>73.0</td>\n",
       "      <td>9396.0</td>\n",
       "      <td>0.0</td>\n",
       "    </tr>\n",
       "    <tr>\n",
       "      <th>1</th>\n",
       "      <td>start</td>\n",
       "      <td>151.366026</td>\n",
       "      <td>37.0</td>\n",
       "      <td>40235.0</td>\n",
       "      <td>0.0</td>\n",
       "    </tr>\n",
       "    <tr>\n",
       "      <th>2</th>\n",
       "      <td>step_1</td>\n",
       "      <td>42.998741</td>\n",
       "      <td>18.0</td>\n",
       "      <td>4150.0</td>\n",
       "      <td>0.0</td>\n",
       "    </tr>\n",
       "    <tr>\n",
       "      <th>3</th>\n",
       "      <td>step_2</td>\n",
       "      <td>38.667857</td>\n",
       "      <td>20.0</td>\n",
       "      <td>1724.0</td>\n",
       "      <td>0.0</td>\n",
       "    </tr>\n",
       "    <tr>\n",
       "      <th>4</th>\n",
       "      <td>step_3</td>\n",
       "      <td>92.944258</td>\n",
       "      <td>66.0</td>\n",
       "      <td>3635.0</td>\n",
       "      <td>0.0</td>\n",
       "    </tr>\n",
       "  </tbody>\n",
       "</table>\n",
       "</div>"
      ],
      "text/plain": [
       "  process_step  mean_duration  median_duration  max_duration  min_duration\n",
       "0      confirm     128.664715             73.0        9396.0           0.0\n",
       "1        start     151.366026             37.0       40235.0           0.0\n",
       "2       step_1      42.998741             18.0        4150.0           0.0\n",
       "3       step_2      38.667857             20.0        1724.0           0.0\n",
       "4       step_3      92.944258             66.0        3635.0           0.0"
      ]
     },
     "execution_count": 109,
     "metadata": {},
     "output_type": "execute_result"
    }
   ],
   "source": [
    "combined_avg_duration = avg_step_duration_mean_no_test \\\n",
    "    .merge(avg_step_duration_median_no_test, on='process_step') \\\n",
    "    .merge(avg_step_duration_max_no_test, on='process_step') \\\n",
    "    .merge(avg_step_duration_min_no_test, on='process_step')\n",
    "\n",
    "# Display the final combined table\n",
    "pd.DataFrame(combined_avg_duration)\n"
   ]
  },
  {
   "cell_type": "code",
   "execution_count": 38,
   "id": "4a5d01ce-0618-4677-a8df-d3e162313728",
   "metadata": {},
   "outputs": [],
   "source": [
    "combined_avg_duration.to_excel('combined_avg_duration.xlsx', index=False)"
   ]
  },
  {
   "cell_type": "markdown",
   "id": "83aff148-85aa-4d6f-9eb2-5a4ad48b2b86",
   "metadata": {},
   "source": [
    "<H3>First Test Statistic (Z-Score)<H3>\n"
   ]
  },
  {
   "cell_type": "code",
   "execution_count": 110,
   "id": "c1cb15d6-0db5-44d5-9f90-177b0ce03ae7",
   "metadata": {},
   "outputs": [
    {
     "name": "stderr",
     "output_type": "stream",
     "text": [
      "C:\\Users\\Srnzzz\\anaconda3\\Lib\\site-packages\\numpy\\core\\_methods.py:206: RuntimeWarning: Degrees of freedom <= 0 for slice\n",
      "  ret = _var(a, axis=axis, dtype=dtype, out=out, ddof=ddof,\n",
      "C:\\Users\\Srnzzz\\anaconda3\\Lib\\site-packages\\numpy\\core\\_methods.py:198: RuntimeWarning: invalid value encountered in scalar divide\n",
      "  ret = ret.dtype.type(ret / rcount)\n"
     ]
    },
    {
     "data": {
      "text/plain": [
       "(25722,)"
      ]
     },
     "execution_count": 110,
     "metadata": {},
     "output_type": "execute_result"
    }
   ],
   "source": [
    "# Step Average\n",
    "confirm_steps = df_test[df_test['process_step'] == 'confirm']\n",
    "average_duration_confirm = confirm_steps['duration'].mean()\n",
    "\n",
    "# Mean for Test_Step_Confirm\n",
    "mean = 128.769658\n",
    "mu = 100 # lower bc median is at 56.0\n",
    "s = average_duration_confirm.std(ddof=1)\n",
    "n = len(confirm_steps)\n",
    "stat = (mean - mu)/(s/np.sqrt(n))\n",
    "stat\n",
    "confirm_steps[\"duration\"].shape\n"
   ]
  },
  {
   "cell_type": "code",
   "execution_count": 111,
   "id": "8101ea2e-a30a-41ed-9627-aa6adcc15e0d",
   "metadata": {},
   "outputs": [
    {
     "data": {
      "text/plain": [
       "25722"
      ]
     },
     "execution_count": 111,
     "metadata": {},
     "output_type": "execute_result"
    }
   ],
   "source": [
    "# Step Average\n",
    "confirm_steps = df_test[df_test['process_step'] == 'confirm']\n",
    "average_duration_confirm = confirm_steps['duration'].mean()\n",
    "average_duration_confirm\n",
    "len(confirm_steps)"
   ]
  },
  {
   "cell_type": "markdown",
   "id": "cbacc272-7db4-4d8b-a6e6-311aa3470f75",
   "metadata": {},
   "source": [
    "<H3>Checking for Normal Distribution<H3>"
   ]
  },
  {
   "cell_type": "code",
   "execution_count": 112,
   "id": "afc03e57-9350-4193-b973-6c66bc716020",
   "metadata": {},
   "outputs": [
    {
     "ename": "KeyError",
     "evalue": "'XXX'",
     "output_type": "error",
     "traceback": [
      "\u001b[1;31m---------------------------------------------------------------------------\u001b[0m",
      "\u001b[1;31mKeyError\u001b[0m                                  Traceback (most recent call last)",
      "File \u001b[1;32m~\\anaconda3\\Lib\\site-packages\\pandas\\core\\indexes\\base.py:3791\u001b[0m, in \u001b[0;36mIndex.get_loc\u001b[1;34m(self, key)\u001b[0m\n\u001b[0;32m   3790\u001b[0m \u001b[38;5;28;01mtry\u001b[39;00m:\n\u001b[1;32m-> 3791\u001b[0m     \u001b[38;5;28;01mreturn\u001b[39;00m \u001b[38;5;28mself\u001b[39m\u001b[38;5;241m.\u001b[39m_engine\u001b[38;5;241m.\u001b[39mget_loc(casted_key)\n\u001b[0;32m   3792\u001b[0m \u001b[38;5;28;01mexcept\u001b[39;00m \u001b[38;5;167;01mKeyError\u001b[39;00m \u001b[38;5;28;01mas\u001b[39;00m err:\n",
      "File \u001b[1;32mindex.pyx:152\u001b[0m, in \u001b[0;36mpandas._libs.index.IndexEngine.get_loc\u001b[1;34m()\u001b[0m\n",
      "File \u001b[1;32mindex.pyx:181\u001b[0m, in \u001b[0;36mpandas._libs.index.IndexEngine.get_loc\u001b[1;34m()\u001b[0m\n",
      "File \u001b[1;32mpandas\\_libs\\hashtable_class_helper.pxi:7080\u001b[0m, in \u001b[0;36mpandas._libs.hashtable.PyObjectHashTable.get_item\u001b[1;34m()\u001b[0m\n",
      "File \u001b[1;32mpandas\\_libs\\hashtable_class_helper.pxi:7088\u001b[0m, in \u001b[0;36mpandas._libs.hashtable.PyObjectHashTable.get_item\u001b[1;34m()\u001b[0m\n",
      "\u001b[1;31mKeyError\u001b[0m: 'XXX'",
      "\nThe above exception was the direct cause of the following exception:\n",
      "\u001b[1;31mKeyError\u001b[0m                                  Traceback (most recent call last)",
      "Cell \u001b[1;32mIn[112], line 2\u001b[0m\n\u001b[0;32m      1\u001b[0m \u001b[38;5;66;03m# Plotting histogram for 'XXX'\u001b[39;00m\n\u001b[1;32m----> 2\u001b[0m sns\u001b[38;5;241m.\u001b[39mhistplot(df_clean[\u001b[38;5;124m'\u001b[39m\u001b[38;5;124mXXX\u001b[39m\u001b[38;5;124m'\u001b[39m], kde\u001b[38;5;241m=\u001b[39m\u001b[38;5;28;01mTrue\u001b[39;00m, bins\u001b[38;5;241m=\u001b[39m\u001b[38;5;241m30\u001b[39m, color\u001b[38;5;241m=\u001b[39m\u001b[38;5;124m\"\u001b[39m\u001b[38;5;124msalmon\u001b[39m\u001b[38;5;124m\"\u001b[39m)\n",
      "File \u001b[1;32m~\\anaconda3\\Lib\\site-packages\\pandas\\core\\frame.py:3893\u001b[0m, in \u001b[0;36mDataFrame.__getitem__\u001b[1;34m(self, key)\u001b[0m\n\u001b[0;32m   3891\u001b[0m \u001b[38;5;28;01mif\u001b[39;00m \u001b[38;5;28mself\u001b[39m\u001b[38;5;241m.\u001b[39mcolumns\u001b[38;5;241m.\u001b[39mnlevels \u001b[38;5;241m>\u001b[39m \u001b[38;5;241m1\u001b[39m:\n\u001b[0;32m   3892\u001b[0m     \u001b[38;5;28;01mreturn\u001b[39;00m \u001b[38;5;28mself\u001b[39m\u001b[38;5;241m.\u001b[39m_getitem_multilevel(key)\n\u001b[1;32m-> 3893\u001b[0m indexer \u001b[38;5;241m=\u001b[39m \u001b[38;5;28mself\u001b[39m\u001b[38;5;241m.\u001b[39mcolumns\u001b[38;5;241m.\u001b[39mget_loc(key)\n\u001b[0;32m   3894\u001b[0m \u001b[38;5;28;01mif\u001b[39;00m is_integer(indexer):\n\u001b[0;32m   3895\u001b[0m     indexer \u001b[38;5;241m=\u001b[39m [indexer]\n",
      "File \u001b[1;32m~\\anaconda3\\Lib\\site-packages\\pandas\\core\\indexes\\base.py:3798\u001b[0m, in \u001b[0;36mIndex.get_loc\u001b[1;34m(self, key)\u001b[0m\n\u001b[0;32m   3793\u001b[0m     \u001b[38;5;28;01mif\u001b[39;00m \u001b[38;5;28misinstance\u001b[39m(casted_key, \u001b[38;5;28mslice\u001b[39m) \u001b[38;5;129;01mor\u001b[39;00m (\n\u001b[0;32m   3794\u001b[0m         \u001b[38;5;28misinstance\u001b[39m(casted_key, abc\u001b[38;5;241m.\u001b[39mIterable)\n\u001b[0;32m   3795\u001b[0m         \u001b[38;5;129;01mand\u001b[39;00m \u001b[38;5;28many\u001b[39m(\u001b[38;5;28misinstance\u001b[39m(x, \u001b[38;5;28mslice\u001b[39m) \u001b[38;5;28;01mfor\u001b[39;00m x \u001b[38;5;129;01min\u001b[39;00m casted_key)\n\u001b[0;32m   3796\u001b[0m     ):\n\u001b[0;32m   3797\u001b[0m         \u001b[38;5;28;01mraise\u001b[39;00m InvalidIndexError(key)\n\u001b[1;32m-> 3798\u001b[0m     \u001b[38;5;28;01mraise\u001b[39;00m \u001b[38;5;167;01mKeyError\u001b[39;00m(key) \u001b[38;5;28;01mfrom\u001b[39;00m \u001b[38;5;21;01merr\u001b[39;00m\n\u001b[0;32m   3799\u001b[0m \u001b[38;5;28;01mexcept\u001b[39;00m \u001b[38;5;167;01mTypeError\u001b[39;00m:\n\u001b[0;32m   3800\u001b[0m     \u001b[38;5;66;03m# If we have a listlike key, _check_indexing_error will raise\u001b[39;00m\n\u001b[0;32m   3801\u001b[0m     \u001b[38;5;66;03m#  InvalidIndexError. Otherwise we fall through and re-raise\u001b[39;00m\n\u001b[0;32m   3802\u001b[0m     \u001b[38;5;66;03m#  the TypeError.\u001b[39;00m\n\u001b[0;32m   3803\u001b[0m     \u001b[38;5;28mself\u001b[39m\u001b[38;5;241m.\u001b[39m_check_indexing_error(key)\n",
      "\u001b[1;31mKeyError\u001b[0m: 'XXX'"
     ]
    }
   ],
   "source": [
    "# Plotting histogram for 'XXX'\n",
    "sns.histplot(df_clean['XXX'], kde=True, bins=30, color=\"salmon\")"
   ]
  },
  {
   "cell_type": "code",
   "execution_count": null,
   "id": "1b55c58c-72e7-45d9-8f60-b22451709bd6",
   "metadata": {},
   "outputs": [],
   "source": [
    "# Q-Q plot for 'SalePrice'\n",
    "from scipy import stats\n",
    "\n",
    "stats.probplot(df['SalePrice'], plot=plt)"
   ]
  },
  {
   "cell_type": "code",
   "execution_count": null,
   "id": "da21289b-d9aa-4457-b1a0-3fa8b3e0ff32",
   "metadata": {},
   "outputs": [],
   "source": [
    "# Conducting the Kolmogorov-Smirnov test for normality on 'SalePrice'\n",
    "# First, we need to standardize the data to have mean 0 and variance 1 since we're comparing against a standard normal distribution\n",
    "standardized_saleprice = (df['SalePrice'] - df['SalePrice'].mean()) / df['SalePrice'].std()\n",
    "ks_test_statistic, ks_p_value = stats.kstest(standardized_saleprice, 'norm')\n",
    "\n",
    "ks_test_statistic, ks_p_value"
   ]
  },
  {
   "cell_type": "code",
   "execution_count": null,
   "id": "83a26fa4-1ad7-451e-9007-caa6e822745b",
   "metadata": {},
   "outputs": [],
   "source": [
    "# Applying Square Root transformation to '1stFlrSF'\n",
    "df_no_test['duration_sqrt'] = np.sqrt(df_no_test['duration'])\n",
    "\n",
    "# Plotting the transformed distributions\n",
    "plt.figure(figsize=(10,5))\n",
    "\n",
    "# Square Root transformed '1stFlrSF'\n",
    "sns.histplot(df_no_test['duration_sqrt'], kde=True)\n",
    "plt.title('Square Root Transformed 1stFlrSF')"
   ]
  },
  {
   "cell_type": "markdown",
   "id": "7216767e-ee1d-497f-8a8a-3f067c959ea9",
   "metadata": {},
   "source": [
    "<H3>Determine P-Value<H3\n"
   ]
  },
  {
   "cell_type": "code",
   "execution_count": 148,
   "id": "ccb2c17f-225e-435c-ad69-9fe50cf6c949",
   "metadata": {},
   "outputs": [
    {
     "data": {
      "text/plain": [
       "TtestResult(statistic=3.5529740149640765, pvalue=0.9998093673114898, df=48246.0)"
      ]
     },
     "execution_count": 148,
     "metadata": {},
     "output_type": "execute_result"
    }
   ],
   "source": [
    "# ttest for average duration\n",
    "#H0: test_step_confirm <= control_step_confirm\n",
    "#H1: test_step_confirm > control_step_confirm\n",
    "df_test_clean = df_test.dropna()\n",
    "df_no_test_clean = df_no_test.dropna()\n",
    "\n",
    "test_step_start = df_test_clean[df_test_clean['process_step'] == \"step_3\"][\"duration\"]\n",
    "\n",
    "control_step_confirm_start = df_no_test_clean[df_no_test_clean['process_step'] == \"step_3\"][\"duration\"]\n",
    "\n",
    "st.ttest_ind(test_step_start,control_step_confirm_start, alternative=\"less\") "
   ]
  },
  {
   "cell_type": "code",
   "execution_count": 143,
   "id": "17dc8e20-70b1-400c-8e89-085a5d628491",
   "metadata": {},
   "outputs": [],
   "source": [
    "df_process_steps_test = pd.DataFrame({\n",
    "    'start': test_step_start.reset_index(drop=True),   # Resetting index to align the data\n",
    "    'step_1': test_step_step_1.reset_index(drop=True),\n",
    "    'step_2': test_step_step_2.reset_index(drop=True),\n",
    "    'step_3': test_step_step_3.reset_index(drop=True),\n",
    "    'confirm': test_step_confirm.reset_index(drop=True)\n",
    "})\n",
    "df_process_steps_test\n",
    "df_process_steps_test.to_excel('process_steps_test.xlsx', index=False)"
   ]
  },
  {
   "cell_type": "code",
   "execution_count": 139,
   "id": "c133de6a-6e1d-421a-9f8c-464e995683d7",
   "metadata": {},
   "outputs": [],
   "source": [
    "df_control_process_steps = pd.DataFrame({\n",
    "    'start': control_step_confirm_start.reset_index(drop=True),   # Resetting index to align the data\n",
    "    'step_1': control_step_confirm_step_1.reset_index(drop=True),\n",
    "    'step_2': control_step_confirm_step_2.reset_index(drop=True),\n",
    "    'step_3': control_step_confirm_step_3.reset_index(drop=True),\n",
    "    'confirm': control_step_confirm_confirm.reset_index(drop=True)\n",
    "})\n",
    "df_control_process_steps\n",
    "df_control_process_steps.to_excel('demographics.xlsx', index=False)"
   ]
  },
  {
   "cell_type": "code",
   "execution_count": 141,
   "id": "9a7dd391-bc0f-4465-b629-cb4ca262fb6d",
   "metadata": {},
   "outputs": [],
   "source": [
    "df_control_process_steps.to_excel('process_steps_control.xlsx', index=False)"
   ]
  },
  {
   "cell_type": "code",
   "execution_count": 132,
   "id": "fe0e62fc-112e-45e6-a906-5238dd01bd04",
   "metadata": {},
   "outputs": [
    {
     "data": {
      "text/plain": [
       "<Axes: xlabel='duration', ylabel='Count'>"
      ]
     },
     "execution_count": 132,
     "metadata": {},
     "output_type": "execute_result"
    },
    {
     "data": {
      "image/png": "[encoded data removed]",
      "text/plain": [
       "<Figure size 640x480 with 1 Axes>"
      ]
     },
     "metadata": {},
     "output_type": "display_data"
    }
   ],
   "source": [
    "# Plotting histogram for 'XXX'\n",
    "sns.histplot(control_step_confirm, kde=False, bins=3100, color=\"salmon\")"
   ]
  },
  {
   "cell_type": "code",
   "execution_count": 133,
   "id": "75d5e4ed-e03f-4dea-bc72-5c9443a68ab2",
   "metadata": {},
   "outputs": [
    {
     "name": "stderr",
     "output_type": "stream",
     "text": [
      "C:\\Users\\Srnzzz\\AppData\\Local\\Temp\\ipykernel_16800\\718204617.py:2: SettingWithCopyWarning: \n",
      "A value is trying to be set on a copy of a slice from a DataFrame\n",
      "\n",
      "See the caveats in the documentation: https://pandas.pydata.org/pandas-docs/stable/user_guide/indexing.html#returning-a-view-versus-a-copy\n",
      "  control_step_confirm['duration_sqrt'] = np.sqrt(control_step_confirm)\n"
     ]
    },
    {
     "data": {
      "text/plain": [
       "Text(0.5, 1.0, 'Square Root Transformed Step 3 to Confirm Duration for Control')"
      ]
     },
     "execution_count": 133,
     "metadata": {},
     "output_type": "execute_result"
    },
    {
     "data": {
      "image/png": "[encoded data removed]",
      "text/plain": [
       "<Figure size 1000x500 with 1 Axes>"
      ]
     },
     "metadata": {},
     "output_type": "display_data"
    }
   ],
   "source": [
    "# Applying Square Root transformation to '1stFlrSF'\n",
    "control_step_confirm['duration_sqrt'] = np.sqrt(control_step_confirm)\n",
    "\n",
    "# Plotting the transformed distributions\n",
    "plt.figure(figsize=(10,5))\n",
    "\n",
    "# Square Root transformed '1stFlrSF'\n",
    "sns.histplot(control_step_confirm['duration_sqrt'], kde=False)\n",
    "plt.title('Square Root Transformed Step 3 to Confirm Duration for Control')"
   ]
  }
 ],
 "metadata": {
  "kernelspec": {
   "display_name": "Python 3 (ipykernel)",
   "language": "python",
   "name": "python3"
  },
  "language_info": {
   "codemirror_mode": {
    "name": "ipython",
    "version": 3
   },
   "file_extension": ".py",
   "mimetype": "text/x-python",
   "name": "python",
   "nbconvert_exporter": "python",
   "pygments_lexer": "ipython3",
   "version": "3.11.7"
  }
 },
 "nbformat": 4,
 "nbformat_minor": 5
}
